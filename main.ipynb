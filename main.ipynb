{
 "cells": [
  {
   "cell_type": "code",
   "execution_count": 5,
   "metadata": {},
   "outputs": [],
   "source": [
    "import numpy as np\n",
    "import pandas as pd\n",
    "import os \n",
    "import torch \n",
    "\n",
    "from typing import List, Tuple, Dict, Any"
   ]
  },
  {
   "cell_type": "code",
   "execution_count": 6,
   "metadata": {},
   "outputs": [],
   "source": [
    "df = pd.read_pickle('dataset/word_embeddings_dataframe.pkl')"
   ]
  },
  {
   "cell_type": "code",
   "execution_count": 7,
   "metadata": {},
   "outputs": [
    {
     "data": {
      "text/html": [
       "<div>\n",
       "<style scoped>\n",
       "    .dataframe tbody tr th:only-of-type {\n",
       "        vertical-align: middle;\n",
       "    }\n",
       "\n",
       "    .dataframe tbody tr th {\n",
       "        vertical-align: top;\n",
       "    }\n",
       "\n",
       "    .dataframe thead th {\n",
       "        text-align: right;\n",
       "    }\n",
       "</style>\n",
       "<table border=\"1\" class=\"dataframe\">\n",
       "  <thead>\n",
       "    <tr style=\"text-align: right;\">\n",
       "      <th></th>\n",
       "      <th>File_Name</th>\n",
       "      <th>Text</th>\n",
       "      <th>Image_Path</th>\n",
       "      <th>BERT_Embeddings</th>\n",
       "      <th>Modified_Image_Path</th>\n",
       "    </tr>\n",
       "  </thead>\n",
       "  <tbody>\n",
       "    <tr>\n",
       "      <th>0</th>\n",
       "      <td>10017</td>\n",
       "      <td>The balcony juts out on the south side, with t...</td>\n",
       "      <td>../floorplan_image\\10017.png</td>\n",
       "      <td>[[-0.6216691, -0.029034398, 0.045137372, -0.09...</td>\n",
       "      <td>human_annotated_images/10017.png</td>\n",
       "    </tr>\n",
       "    <tr>\n",
       "      <th>1</th>\n",
       "      <td>10042</td>\n",
       "      <td>The balcony is in the southeastern corner of t...</td>\n",
       "      <td>../floorplan_image\\10042.png</td>\n",
       "      <td>[[-0.6944888, 0.015425202, -0.0041255075, -0.1...</td>\n",
       "      <td>human_annotated_images/10042.png</td>\n",
       "    </tr>\n",
       "    <tr>\n",
       "      <th>2</th>\n",
       "      <td>10045</td>\n",
       "      <td>bathroom is in north side of the house, next t...</td>\n",
       "      <td>../floorplan_image\\10045.png</td>\n",
       "      <td>[[-0.6030773, -0.0011889015, 0.045667697, -0.1...</td>\n",
       "      <td>human_annotated_images/10045.png</td>\n",
       "    </tr>\n",
       "    <tr>\n",
       "      <th>3</th>\n",
       "      <td>10047</td>\n",
       "      <td>The balcony is in the north east corner, just ...</td>\n",
       "      <td>../floorplan_image\\10047.png</td>\n",
       "      <td>[[-0.69215715, -0.052971497, 0.03891414, -0.02...</td>\n",
       "      <td>human_annotated_images/10047.png</td>\n",
       "    </tr>\n",
       "    <tr>\n",
       "      <th>4</th>\n",
       "      <td>10052</td>\n",
       "      <td>The balcony is on the southwest side of the ap...</td>\n",
       "      <td>../floorplan_image\\10052.png</td>\n",
       "      <td>[[-0.61126614, -0.005761562, -0.054692637, 0.0...</td>\n",
       "      <td>human_annotated_images/10052.png</td>\n",
       "    </tr>\n",
       "  </tbody>\n",
       "</table>\n",
       "</div>"
      ],
      "text/plain": [
       "  File_Name                                               Text  \\\n",
       "0     10017  The balcony juts out on the south side, with t...   \n",
       "1     10042  The balcony is in the southeastern corner of t...   \n",
       "2     10045  bathroom is in north side of the house, next t...   \n",
       "3     10047  The balcony is in the north east corner, just ...   \n",
       "4     10052  The balcony is on the southwest side of the ap...   \n",
       "\n",
       "                     Image_Path  \\\n",
       "0  ../floorplan_image\\10017.png   \n",
       "1  ../floorplan_image\\10042.png   \n",
       "2  ../floorplan_image\\10045.png   \n",
       "3  ../floorplan_image\\10047.png   \n",
       "4  ../floorplan_image\\10052.png   \n",
       "\n",
       "                                     BERT_Embeddings  \\\n",
       "0  [[-0.6216691, -0.029034398, 0.045137372, -0.09...   \n",
       "1  [[-0.6944888, 0.015425202, -0.0041255075, -0.1...   \n",
       "2  [[-0.6030773, -0.0011889015, 0.045667697, -0.1...   \n",
       "3  [[-0.69215715, -0.052971497, 0.03891414, -0.02...   \n",
       "4  [[-0.61126614, -0.005761562, -0.054692637, 0.0...   \n",
       "\n",
       "                Modified_Image_Path  \n",
       "0  human_annotated_images/10017.png  \n",
       "1  human_annotated_images/10042.png  \n",
       "2  human_annotated_images/10045.png  \n",
       "3  human_annotated_images/10047.png  \n",
       "4  human_annotated_images/10052.png  "
      ]
     },
     "execution_count": 7,
     "metadata": {},
     "output_type": "execute_result"
    }
   ],
   "source": [
    "def modify_image_path(image_path: str) -> str: \n",
    "    filename: str = os.path.basename(image_path).split('floorplan_image\\\\')[1] \n",
    "    new_path: str = os.path.join('human_annotated_images', filename) \n",
    "    return new_path\n",
    "\n",
    "df['Modified_Image_Path'] = df['Image_Path'].apply(modify_image_path)\n",
    "df.head()"
   ]
  },
  {
   "cell_type": "code",
   "execution_count": 7,
   "metadata": {},
   "outputs": [
    {
     "name": "stdout",
     "output_type": "stream",
     "text": [
      "The balcony juts out on the south side, with the master to the north. It is approximately 12 feet wide by 5 feet deep, for a total square footage of 60. The bathroom is in the northeast corner with the common room to the south and the living room to the west. It is approximately 12 feet wide by 5 feet deep, for a total square footage of 60. The common room is on the east side with the bathroom to the north, the master room to the south and the living room to the west. Half of the south wall is exterior. It is approximately 12 feet wide by 10 feet deep, for a total square footage of 120. The kitchen is in the southwest corner with the living room to the north and the master room to the east. It is approximately 10 feet wide by 10 feet deep, for a total square footage of 100. The living room is at the northwest corner, with the bathroom and common room to the east, the master room inset at the south west corner, and the kitchen to the south. It is approximately 15 feet wide by 30 feet deep, minus the knock out for the master room, for a total square footage of 400. The master room is on the east side with the living room at the northwest corner, the common room to the north, balcony to the south, and kitchen to the west. It is approximately 12 feet wide by 20 feet deep, for a total square footage of 240. \n"
     ]
    }
   ],
   "source": [
    "print(df['Text'][0])"
   ]
  },
  {
   "cell_type": "code",
   "execution_count": 8,
   "metadata": {},
   "outputs": [
    {
     "name": "stdout",
     "output_type": "stream",
     "text": [
      "The balcony juts out on the south side, with the master to the north. It is approximately 12 feet wide by 5 feet deep, for a total square footage of 60. The bathroom is in the northeast corner with the common room to the south and the living room to the west. It is approximately 12 feet wide by 5 feet deep, for a total square footage of 60. The common room is on the east side with the bathroom to the north, the master room to the south and the living room to the west. Half of the south wall is exterior. It is approximately 12 feet wide by 10 feet deep, for a total square footage of 120. The kitchen is in the southwest corner with the living room to the north and the master room to the east. It is approximately 10 feet wide by 10 feet deep, for a total square footage of 100. The living room is at the northwest corner, with the bathroom and common room to the east, the master room inset at the south west corner, and the kitchen to the south. It is approximately 15 feet wide by 30 feet deep, minus the knock out for the master room, for a total square footage of 400. The master room is on the east side with the living room at the northwest corner, the common room to the north, balcony to the south, and kitchen to the west. It is approximately 12 feet wide by 20 feet deep, for a total square footage of 240. \n",
      "\n",
      "The balcony is in the southeastern corner of the floor plan, leading directly south from the living room's south edge, and also adjoined by the master bedroom on its right side. It is approximately 5 feet long by 12 feet wide. bathroom 1 is nestled on the north side of the floor plan, with the living room to its rightand south sides and common room to its left. It is approximately 7 feet long by 4 feet wide. bathroom 2 is adjoined to the master bedroom on its northern edge and also leads to the hallway portion of the living room to its right. It is approximately 5 feet long by 8 feet wide. common room is in the northwestern corner of the floor plan, neighbored by bathroom 1 and living room on its east side, and bathroom 2 on its south side. It is a relatively large room, approximately 12 feet long by 10 feet wide. The kitchen is relatively narrow in the floor plan's northeastern corner, adjoined only by the living room to its left. It is approximately 12 feet long by 5 feet wide. The living room dominates the eastern portion of the floor plan and serves as the hub to the other rooms. It is bordered by the kitchen on its northeast side, the balcony on its south side, the master bedroom on its southwestern edge, and the common room 1 and bathroom 1 on its northwestern extreity. It is approximately 30 feet long by 15 feet wide, with various smaller extensions to the west and east. The master bedroom lies in the southwestern corner of the floor plan, with the living room to its right and adjoined by bathroom 2 and the hallway portion of the living room on its north side. It is approximately 18 feet long by 15 feet wide, with an additional hallway extension on its northeast corner. \n",
      "\n",
      "bathroom is in north side of the house, next to living room and common room, size of  bathroom is 8 feet in width and 6 feet in length. common room is in north east corner of the house, next to living room, bathroom and master room, size of common room is 10 feet in width and 14 feet in length. kitchen is in west side of the house, next to living room, size of kitchen is 6 feet in width and 16 feet in length. living room is in west side of the house, next to master room, kitchen, bathroom and common room, size of living room is 348 sqft. master room is in south east corner of the house, next to living room and common room, size of master room is 12 feet in width and 14 feet in length. \n",
      "\n",
      "The balcony is in the north east corner, just above the kitchen. It is about 5' x 10'. Bath 1 connects the master to the south, and com 1 to the north. Bath 1 is less than 10' by 10' and is on the left side of the house. Bath two is accessible from the living room to the south and the kitchen to the north. It is located on the right side of the house, and is about 8' x 5'. Com 1 is on the left of the house, in the most north location. It is next to the bathroom, and is about 10' by 15' in a dog leg shape. Com 2 is next to Com 1, to it's right, in the northern center of the house. It is about 10' x 10' and overlooks the central living room. The kitchen is in the upper right of the floorplan, and is about 10' x 10' or less. It overlooks the living room to the left. The living room is central to the floorplan, and is about 18' by 30' central to the house, with the bathroom, kitchen and balcony to the left, and the master to the left. Com 2 meets the living room on the northern end. The master is to the left of the kitchen, adjoining the bathroom just north of the master. The master is about 15' x 15' and is on the left corner of the house. \n",
      "\n",
      "The balcony is on the southwest side of the apartment, next to the living room.  It measures 12 feet by 4 feet The bathroom is on the west side of the apartment, next to the living room.  It measures 8 feet by 7 feet The common room is on the northeast side of the apartment, next to the living room.  It measures 13 feet by 10 feet The kitchen is on the north side of the apartment, next to the living room.  It measures 10 feet by 10 feet The living room is on the center of the apartment, next to the master bedroom. It measures 20 feet by 30 feet The bedroom is on the south east corner of the apartment, next to the living room.  It measures 10 feet by 12 feet \n",
      "\n"
     ]
    }
   ],
   "source": [
    "for i in range(5):\n",
    "    print(df['Text'][i])\n",
    "    print()"
   ]
  },
  {
   "cell_type": "code",
   "execution_count": 8,
   "metadata": {},
   "outputs": [],
   "source": [
    "df.drop(columns=['Image_Path'], inplace=True, axis=1) "
   ]
  },
  {
   "cell_type": "code",
   "execution_count": 9,
   "metadata": {},
   "outputs": [
    {
     "data": {
      "text/html": [
       "<div>\n",
       "<style scoped>\n",
       "    .dataframe tbody tr th:only-of-type {\n",
       "        vertical-align: middle;\n",
       "    }\n",
       "\n",
       "    .dataframe tbody tr th {\n",
       "        vertical-align: top;\n",
       "    }\n",
       "\n",
       "    .dataframe thead th {\n",
       "        text-align: right;\n",
       "    }\n",
       "</style>\n",
       "<table border=\"1\" class=\"dataframe\">\n",
       "  <thead>\n",
       "    <tr style=\"text-align: right;\">\n",
       "      <th></th>\n",
       "      <th>File_Name</th>\n",
       "      <th>Text</th>\n",
       "      <th>BERT_Embeddings</th>\n",
       "      <th>Image_Path</th>\n",
       "    </tr>\n",
       "  </thead>\n",
       "  <tbody>\n",
       "    <tr>\n",
       "      <th>0</th>\n",
       "      <td>10017</td>\n",
       "      <td>The balcony juts out on the south side, with t...</td>\n",
       "      <td>[[-0.6216691, -0.029034398, 0.045137372, -0.09...</td>\n",
       "      <td>human_annotated_images/10017.png</td>\n",
       "    </tr>\n",
       "    <tr>\n",
       "      <th>1</th>\n",
       "      <td>10042</td>\n",
       "      <td>The balcony is in the southeastern corner of t...</td>\n",
       "      <td>[[-0.6944888, 0.015425202, -0.0041255075, -0.1...</td>\n",
       "      <td>human_annotated_images/10042.png</td>\n",
       "    </tr>\n",
       "    <tr>\n",
       "      <th>2</th>\n",
       "      <td>10045</td>\n",
       "      <td>bathroom is in north side of the house, next t...</td>\n",
       "      <td>[[-0.6030773, -0.0011889015, 0.045667697, -0.1...</td>\n",
       "      <td>human_annotated_images/10045.png</td>\n",
       "    </tr>\n",
       "    <tr>\n",
       "      <th>3</th>\n",
       "      <td>10047</td>\n",
       "      <td>The balcony is in the north east corner, just ...</td>\n",
       "      <td>[[-0.69215715, -0.052971497, 0.03891414, -0.02...</td>\n",
       "      <td>human_annotated_images/10047.png</td>\n",
       "    </tr>\n",
       "    <tr>\n",
       "      <th>4</th>\n",
       "      <td>10052</td>\n",
       "      <td>The balcony is on the southwest side of the ap...</td>\n",
       "      <td>[[-0.61126614, -0.005761562, -0.054692637, 0.0...</td>\n",
       "      <td>human_annotated_images/10052.png</td>\n",
       "    </tr>\n",
       "  </tbody>\n",
       "</table>\n",
       "</div>"
      ],
      "text/plain": [
       "  File_Name                                               Text  \\\n",
       "0     10017  The balcony juts out on the south side, with t...   \n",
       "1     10042  The balcony is in the southeastern corner of t...   \n",
       "2     10045  bathroom is in north side of the house, next t...   \n",
       "3     10047  The balcony is in the north east corner, just ...   \n",
       "4     10052  The balcony is on the southwest side of the ap...   \n",
       "\n",
       "                                     BERT_Embeddings  \\\n",
       "0  [[-0.6216691, -0.029034398, 0.045137372, -0.09...   \n",
       "1  [[-0.6944888, 0.015425202, -0.0041255075, -0.1...   \n",
       "2  [[-0.6030773, -0.0011889015, 0.045667697, -0.1...   \n",
       "3  [[-0.69215715, -0.052971497, 0.03891414, -0.02...   \n",
       "4  [[-0.61126614, -0.005761562, -0.054692637, 0.0...   \n",
       "\n",
       "                         Image_Path  \n",
       "0  human_annotated_images/10017.png  \n",
       "1  human_annotated_images/10042.png  \n",
       "2  human_annotated_images/10045.png  \n",
       "3  human_annotated_images/10047.png  \n",
       "4  human_annotated_images/10052.png  "
      ]
     },
     "execution_count": 9,
     "metadata": {},
     "output_type": "execute_result"
    }
   ],
   "source": [
    "df.rename(columns={'Modified_Image_Path': 'Image_Path'}, inplace=True)\n",
    "df.head()"
   ]
  },
  {
   "cell_type": "code",
   "execution_count": 10,
   "metadata": {},
   "outputs": [],
   "source": [
    "import matplotlib.pyplot as plt\n",
    "from PIL import Image"
   ]
  },
  {
   "cell_type": "code",
   "execution_count": 11,
   "metadata": {},
   "outputs": [
    {
     "data": {
      "image/png": "[encoded data removed]",
      "text/plain": [
       "<Figure size 640x480 with 1 Axes>"
      ]
     },
     "metadata": {},
     "output_type": "display_data"
    }
   ],
   "source": [
    "BASE: str = 'dataset/' \n",
    "image_path: str = os.path.join(BASE, df['Image_Path'][0])\n",
    "image = Image.open(image_path)\n",
    "plt.imshow(image)\n",
    "plt.axis('off')\n",
    "plt.show()"
   ]
  },
  {
   "cell_type": "code",
   "execution_count": 12,
   "metadata": {},
   "outputs": [
    {
     "name": "stdout",
     "output_type": "stream",
     "text": [
      "(4003, 1, 768)\n",
      "(4003, 256, 256, 3)\n"
     ]
    }
   ],
   "source": [
    "from sklearn.model_selection import train_test_split\n",
    "\n",
    "# loading bert embeddings\n",
    "X_text_embeddings = np.array(df['BERT_Embeddings'].tolist()) \n",
    "image_paths = df['Image_Path'].tolist()\n",
    "\n",
    "# load images\n",
    "X_images = [] \n",
    "for path in image_paths: \n",
    "    path = os.path.join(BASE, path)\n",
    "    image = Image.open(path)\n",
    "    image_array = np.array(image) / 255.0\n",
    "    X_images.append(image_array)\n",
    "    \n",
    "# convert to numpy array\n",
    "X_text_embeddings = np.array(X_text_embeddings)\n",
    "X_images = np.array(X_images)\n",
    "\n",
    "# print the shape of the arrays\n",
    "print(X_text_embeddings.shape)\n",
    "print(X_images.shape)"
   ]
  },
  {
   "cell_type": "code",
   "execution_count": 13,
   "metadata": {},
   "outputs": [
    {
     "name": "stdout",
     "output_type": "stream",
     "text": [
      "(3202, 1, 768)\n",
      "(3202, 256, 256, 3)\n",
      "(3202,)\n",
      "(801, 1, 768)\n",
      "(801, 256, 256, 3)\n",
      "(801,)\n"
     ]
    }
   ],
   "source": [
    "# prepare labels \n",
    "y = np.arange(len(df)) \n",
    "X_train_text, X_test_text, X_train_images, X_test_images, y_train, y_test = train_test_split(X_text_embeddings, X_images, y, test_size=0.2, random_state=42)\n",
    "\n",
    "# print the shape of the arrays\n",
    "print(X_train_text.shape)\n",
    "print(X_train_images.shape)\n",
    "print(y_train.shape)\n",
    "print(X_test_text.shape)\n",
    "print(X_test_images.shape)\n",
    "print(y_test.shape)\n"
   ]
  },
  {
   "cell_type": "code",
   "execution_count": 14,
   "metadata": {},
   "outputs": [
    {
     "name": "stdout",
     "output_type": "stream",
     "text": [
      "(3202, 768)\n"
     ]
    }
   ],
   "source": [
    "# reshape to remove extra dimension \n",
    "X_train_text = X_train_text.reshape(X_train_text.shape[0], -1)\n",
    "print(X_train_text.shape)"
   ]
  },
  {
   "cell_type": "code",
   "execution_count": 15,
   "metadata": {},
   "outputs": [
    {
     "name": "stdout",
     "output_type": "stream",
     "text": [
      "(801, 768)\n"
     ]
    }
   ],
   "source": [
    "X_test_text = X_test_text.reshape(X_test_text.shape[0], -1)\n",
    "print(X_test_text.shape)"
   ]
  },
  {
   "cell_type": "code",
   "execution_count": 16,
   "metadata": {},
   "outputs": [
    {
     "name": "stdout",
     "output_type": "stream",
     "text": [
      "X_train_text shape: (3202, 768)\n",
      "X_train_images shape: (3202, 256, 256, 3)\n",
      "X_test_text shape: (801, 768)\n",
      "X_test_images shape: (801, 256, 256, 3)\n"
     ]
    }
   ],
   "source": [
    "print(\"X_train_text shape:\", X_train_text.shape)\n",
    "print(\"X_train_images shape:\", X_train_images.shape)\n",
    "\n",
    "print(\"X_test_text shape:\", X_test_text.shape)\n",
    "print(\"X_test_images shape:\", X_test_images.shape)"
   ]
  },
  {
   "cell_type": "code",
   "execution_count": 17,
   "metadata": {},
   "outputs": [
    {
     "data": {
      "text/plain": [
       "array([-0.5754481 ,  0.0189473 ,  0.11817609,  0.02992155,  0.65141094,\n",
       "       -0.20927459,  0.04845341,  0.5410135 ,  0.13207452, -0.63569915,\n",
       "        0.207006  , -0.64307034, -0.38915625,  0.16688353, -0.30772436,\n",
       "        0.46441597,  0.28175345,  0.20655034,  0.0714353 ,  0.34022012,\n",
       "        0.05433815, -0.29941747, -0.17494744,  0.60304934,  0.12055178,\n",
       "       -0.01095621, -0.02932324,  0.07023944, -0.19566831,  0.08874706,\n",
       "        0.6439936 , -0.04744988, -0.00477395, -0.67380816,  0.15863612,\n",
       "       -0.2338918 ,  0.19983698, -0.14235647, -0.5475427 ,  0.14933665,\n",
       "       -0.7797225 , -0.18704425,  0.05365221,  0.08347022, -0.0300341 ,\n",
       "       -0.18644734,  0.5152984 , -0.21001706, -0.21902874,  0.3655471 ,\n",
       "       -0.48608094, -0.05752416, -0.14547814,  0.0989761 ,  0.33760992,\n",
       "        0.8571075 , -0.378471  , -0.23348029, -0.4961075 , -0.46169376,\n",
       "        0.4204655 , -0.18531236,  0.44366038, -0.50126475,  0.26569808,\n",
       "       -0.03627625,  0.44500747,  0.5008911 , -0.41431153,  0.0714153 ,\n",
       "       -0.35047236, -0.1730873 ,  0.27332258, -0.22023228,  0.06421003,\n",
       "       -0.10399906, -0.03892432,  0.2957332 ,  0.19769955, -0.15385637,\n",
       "       -0.29190457,  0.24236777, -0.32660013,  0.6214714 , -0.08492417,\n",
       "       -0.21469826, -0.2980385 , -0.03923772, -0.7338831 ,  0.9133425 ,\n",
       "       -0.16374484, -0.228833  ,  0.10093482,  0.05267303,  0.35804528,\n",
       "        0.08741653,  0.25631386,  0.30761686,  0.03444256,  0.5968548 ,\n",
       "        0.00578304, -0.07729679,  0.14876193,  0.0607245 ,  0.09437284,\n",
       "       -0.43237275,  0.22763082, -0.23993339,  0.14797753,  0.36779073,\n",
       "       -0.09939353, -0.3613384 ,  0.07963001, -0.21547528, -0.05586934,\n",
       "        0.34242985,  0.20004375, -0.18293887,  0.14909098,  0.2665437 ,\n",
       "        0.16316722,  0.0192323 , -0.0360994 ,  0.7035587 , -0.11102749,\n",
       "        0.057201  , -0.24894293,  0.424746  , -0.2886099 , -0.30141714,\n",
       "        0.12507857,  0.16251379,  0.34462082,  0.10543445, -0.10136723,\n",
       "        0.39591953, -0.18888488, -0.10704794, -0.34078342,  0.48183125,\n",
       "        0.25652066, -0.31015384,  0.35055947,  0.00829216, -0.01282884,\n",
       "       -0.18792814, -0.25439608, -0.44483057, -0.09776392,  0.50225323,\n",
       "        0.312329  ,  0.10934666,  0.25953197, -0.23863783, -0.09140077,\n",
       "       -0.09288926, -0.19413343,  0.3549167 , -0.2596096 , -0.02861941,\n",
       "        0.6388126 , -0.05447589, -0.17757696,  0.21514729, -0.10417841,\n",
       "        0.30410987,  0.11357082,  0.5833514 , -0.43077257,  0.07600305,\n",
       "       -0.33651778, -0.23797198,  0.8820481 , -0.09489372, -0.10669566,\n",
       "       -0.13880251,  0.12255583,  0.2134936 ,  0.3765071 , -0.18764089,\n",
       "       -0.5952923 ,  0.25893423, -0.24886543,  0.05211594,  0.6510507 ,\n",
       "       -0.2961731 ,  0.5044235 , -0.357192  ,  0.00633896,  0.07436988,\n",
       "        0.3427082 , -0.5423686 , -0.2867854 ,  0.02483355,  0.23905557,\n",
       "       -0.3320396 , -0.23249745, -0.51313764, -0.5610836 ,  0.02270452,\n",
       "        0.07921848, -0.06594992,  0.79860157,  0.26125544, -0.09365103,\n",
       "       -0.4987985 , -0.05795961, -0.13297927,  0.2077885 ,  0.22564155,\n",
       "       -0.06260696,  0.14493236,  0.09982064,  0.4570575 ,  0.16220497,\n",
       "       -0.10625229,  0.175133  , -0.50295234,  0.44199672, -0.2559827 ,\n",
       "        0.49437323,  0.10456964, -0.52650154,  0.63478553, -0.41534883,\n",
       "        1.0645694 ,  0.11740503, -0.56049716,  0.0908746 ,  0.7129161 ,\n",
       "       -0.13157383, -0.527778  ,  0.8022525 , -0.24632089, -0.30801755,\n",
       "        0.26049098, -0.3362108 ,  0.2871287 ,  0.37712282, -0.40672636,\n",
       "       -0.44092757,  0.49361646,  0.53776675, -0.13927118,  0.30915943,\n",
       "        0.0087682 , -0.10088401, -0.18527056, -0.4062815 , -0.2610215 ,\n",
       "       -0.4998008 , -0.20668755,  0.25629324, -0.68199736, -0.04970024,\n",
       "       -0.4017093 ,  0.07906473, -0.22882038,  0.03992737, -0.08385258,\n",
       "        0.17112567, -0.00455584,  0.2705676 ,  0.14184313, -0.37877846,\n",
       "       -0.52480906,  0.228357  ,  0.8262507 , -0.09961925,  0.02217762,\n",
       "        0.00860662, -0.08130046,  0.09301588,  0.6363797 , -0.45304602,\n",
       "       -0.0238364 ,  0.36056682,  0.0592916 , -0.13429146, -0.5489628 ,\n",
       "        0.30645838,  0.6704116 ,  0.12825035,  0.09252219,  0.12737769,\n",
       "       -0.46711525,  0.28910694,  0.05636906, -0.33135918, -0.5218477 ,\n",
       "       -0.01795679,  0.19199689, -0.1630251 , -0.42773396,  0.14213113,\n",
       "       -0.15989837, -0.2874534 ,  0.06133073,  0.33316746, -0.14138444,\n",
       "       -0.31976607, -0.21269123,  0.02955413,  0.03808765, -0.05902842,\n",
       "       -0.0626005 , -0.08027871, -0.4580564 , -3.3100572 ,  0.31584838,\n",
       "        0.06307743,  0.0591811 , -0.05391124, -0.28823304, -0.04926568,\n",
       "       -0.03323754, -0.73939764,  0.09079885, -0.20429334, -0.30067104,\n",
       "        0.63420755,  0.06416832,  0.43173966, -0.14856964, -0.47975716,\n",
       "       -0.19743806, -0.0518141 ,  0.25625098, -0.3049817 , -0.42107168,\n",
       "        0.20669341, -0.3556082 ,  0.7553556 ,  0.5475307 , -0.3838568 ,\n",
       "       -0.2824743 , -0.33607468, -0.44259962,  0.15889074, -0.14398961,\n",
       "       -0.00357509,  0.3337805 ,  0.36831212, -0.35687184,  0.07855239,\n",
       "       -0.47017103, -0.24079196, -0.22119892,  0.25807756, -0.7542628 ,\n",
       "       -0.04222978, -0.46317   ,  0.8865753 , -0.1938586 ,  0.20558605,\n",
       "       -0.4555171 ,  0.1510828 ,  0.3626992 ,  0.38436124,  0.0448565 ,\n",
       "       -0.09861397,  0.07297494, -0.2062308 , -0.11954276,  0.53088784,\n",
       "        0.45732367, -0.20518456, -0.41735145, -0.10361478, -0.3014218 ,\n",
       "       -0.5679759 , -0.18024196,  0.13040507, -0.6294914 , -0.35289747,\n",
       "        0.4353009 ,  0.16946438,  0.38318646,  0.02536068,  0.5078607 ,\n",
       "       -0.3669549 , -0.41965786, -0.21722758, -0.64630276,  0.17145137,\n",
       "       -0.36464292, -0.05053375, -0.35406837,  0.1433597 , -0.5591974 ,\n",
       "       -0.00611942,  0.035292  ,  0.11607687, -0.7107852 ,  0.23417181,\n",
       "        0.11890043, -0.3108511 , -0.13401023,  0.0940587 ,  0.4325833 ,\n",
       "       -0.17351831, -0.09384654,  0.23508716, -0.36447322,  0.35907218,\n",
       "       -0.4000097 ,  0.25951424, -0.43179986,  0.06674982, -0.19591744,\n",
       "        0.26710084, -0.04274069,  0.01433644, -0.21628375,  0.0246923 ,\n",
       "        0.3466762 , -0.21677975, -0.05623873,  0.1726331 , -0.78465664,\n",
       "        0.46547312, -0.26968226, -0.09451837, -0.26334497,  0.05385775,\n",
       "        0.360864  , -0.36448348, -0.19562842,  0.05373451,  0.4388722 ,\n",
       "       -0.2750612 , -0.22732306, -0.4399488 ,  0.24133566,  0.01216306,\n",
       "       -0.33920246, -0.0836777 ,  0.25127804, -0.32185587, -0.14194334,\n",
       "       -0.02678075,  0.34835204,  0.0470278 ,  0.2524112 , -0.20394126,\n",
       "       -0.9437069 ,  0.1490453 ,  0.10604335,  0.11228458,  0.06708919,\n",
       "       -0.09969863,  0.01090329, -0.35708576,  0.7570498 ,  0.25873902,\n",
       "       -0.12201381, -0.19069283, -0.09525031, -0.4994209 , -0.2936042 ,\n",
       "       -0.14331548, -0.20655648,  0.22837226,  0.18614855, -0.19811778,\n",
       "        0.26111552, -0.2134996 , -0.5683189 ,  0.2140863 ,  0.01720108,\n",
       "        0.49898186,  0.05033354, -0.38731897,  0.9805871 ,  0.00901103,\n",
       "        0.33745778, -0.02557288,  0.32526526,  0.24776721, -0.5635481 ,\n",
       "       -0.00744236, -0.2809889 , -0.20421298,  0.45483425, -0.16554044,\n",
       "       -0.15523623, -0.05704835,  0.15390766, -0.12745461,  0.0730636 ,\n",
       "       -0.15382247, -0.365741  ,  0.14953303, -0.03980146,  0.02564276,\n",
       "       -0.45969567,  0.05728323,  0.25899744,  0.22006917,  0.11074182,\n",
       "       -0.22594346,  0.06491846, -0.22608571, -0.55813426,  0.23932382,\n",
       "        0.34912273, -0.02293242,  0.36318374,  0.27112707, -0.06324616,\n",
       "       -0.44698644,  0.13549972,  0.21545137, -0.12955774,  0.4214165 ,\n",
       "        0.3505492 ,  0.16976549,  0.3754776 , -0.56826293, -0.06183172,\n",
       "       -0.5452734 , -0.12367322, -0.23171555, -0.477583  , -0.14452732,\n",
       "       -0.12092187, -0.15712288, -0.16752239, -0.32302138, -0.11017393,\n",
       "        0.18877631, -0.31559405, -0.65560085,  0.09663997,  0.32459775,\n",
       "       -0.03093191, -0.1750226 , -0.5736046 ,  0.6593784 , -0.40957972,\n",
       "        0.16900577, -0.00678745,  0.02114959,  0.09283423, -0.20349023,\n",
       "       -0.92744297,  0.24543837,  0.289408  , -0.01611829, -0.17837858,\n",
       "       -0.4534847 , -0.19522385,  0.2129491 , -0.02786582, -0.04448413,\n",
       "        0.14492184, -0.00847939,  0.53806144, -0.13932036, -0.1048016 ,\n",
       "        0.2730859 , -0.35071525,  0.10805654, -0.7805645 , -0.322231  ,\n",
       "        0.09672112, -0.11379978, -0.02015167, -0.2592481 , -0.1806362 ,\n",
       "       -0.10968934,  0.36508554,  0.2763766 ,  0.15791301, -0.10615356,\n",
       "       -0.00900127, -0.13556975, -0.42808616,  0.36155853, -0.34430325,\n",
       "        0.01082182, -0.38618368,  0.0131722 ,  0.38197628, -0.23198855,\n",
       "       -0.45656937,  0.26088357, -0.55959177, -0.40975258, -0.10721393,\n",
       "       -0.03349166, -0.04774118,  0.09792082, -0.09435553, -0.29775217,\n",
       "        0.4820078 , -0.18036966, -0.22504319,  0.27546215, -0.07967655,\n",
       "        0.1620081 ,  0.10541795,  0.02982367,  0.23623957,  0.5733647 ,\n",
       "        0.25618628,  0.04920441, -0.17383501,  0.0244759 , -0.0922219 ,\n",
       "       -0.40381223,  0.27199945, -0.13184987,  0.24759655,  0.09231931,\n",
       "       -0.54188436, -0.04435676,  0.29133722, -0.18525267, -0.45178273,\n",
       "        0.67244494,  0.39480105, -0.7640701 , -0.15973412, -0.26980117,\n",
       "       -0.04738321,  0.10639863, -0.19836739,  0.21385029, -0.09024748,\n",
       "        0.8583223 ,  0.3004621 ,  0.13861758,  0.59524846, -0.2974639 ,\n",
       "        0.02505656, -0.25067103,  0.19936238, -0.09546243,  0.24764925,\n",
       "       -0.3246696 ,  0.38646147, -0.02610948, -0.04818762, -0.5730099 ,\n",
       "        0.05359725,  0.2663716 , -0.3651441 , -0.26788965,  0.18384476,\n",
       "        0.29429373,  0.5645809 ,  0.6358598 ,  0.27478543,  0.25341642,\n",
       "       -0.44970647,  0.8695551 ,  0.16464233,  0.12956004,  0.10247046,\n",
       "        0.14114727, -0.35181305, -0.08469529,  0.72639686,  0.45296422,\n",
       "        0.15686154, -0.05036012,  1.044883  ,  0.52272844,  0.24295035,\n",
       "        0.58987004, -0.52488935, -0.290401  ,  0.10190949,  0.25984767,\n",
       "       -0.61943376, -0.29755563,  0.28262126,  0.01946517,  0.31395847,\n",
       "        0.2248702 , -0.35801992, -0.05760279,  1.2359482 , -0.05548104,\n",
       "        0.06078491, -0.16257118,  0.02677738,  0.40401083,  0.13122945,\n",
       "       -0.56819594, -0.7264039 ,  0.08814319, -0.37416187,  0.24884188,\n",
       "        0.2590642 ,  0.02926009, -0.28651896,  0.08618268, -0.17162366,\n",
       "        0.47692674, -0.60009587, -0.10091455, -0.61379206,  0.438452  ,\n",
       "       -0.01318318,  0.8650698 , -0.06298966,  0.29127526, -0.1730495 ,\n",
       "       -0.09404317, -0.1505509 , -0.03297953,  0.07335895, -0.10079341,\n",
       "        0.14204668, -0.03638513,  0.02698858,  0.09550305,  0.4353172 ,\n",
       "       -0.1689573 , -0.01921727,  0.23209265, -0.21497707,  0.17402475,\n",
       "       -0.14347443, -0.40463868,  0.18255413, -0.22065195, -0.36481768,\n",
       "       -0.09638709,  0.03101354, -0.36168444, -0.48371628,  0.22167055,\n",
       "       -0.01860575,  0.17741694, -0.17981331, -0.38673818,  0.31815076,\n",
       "       -0.11089641,  0.49114877, -0.48888546, -0.39990515, -0.04676212,\n",
       "        0.14191984, -0.18312635, -0.2846807 ,  0.47055677,  0.45524302,\n",
       "       -0.05592088,  0.22505474,  0.4283567 , -0.227645  , -0.32102665,\n",
       "       -0.5122114 ,  0.20375803, -0.35879934,  0.05686883, -0.2556379 ,\n",
       "        0.16593324, -0.51783425, -0.49138048, -0.06027102, -0.16635352,\n",
       "        0.22152266,  0.4652689 ,  0.08877223], dtype=float32)"
      ]
     },
     "execution_count": 17,
     "metadata": {},
     "output_type": "execute_result"
    }
   ],
   "source": [
    "X_train_text[0]"
   ]
  },
  {
   "cell_type": "code",
   "execution_count": 18,
   "metadata": {},
   "outputs": [
    {
     "data": {
      "image/png": "[encoded data removed]",
      "text/plain": [
       "<Figure size 640x480 with 1 Axes>"
      ]
     },
     "metadata": {},
     "output_type": "display_data"
    }
   ],
   "source": [
    "# display images \n",
    "data = X_train_images[2] \n",
    "plt.imshow(data, interpolation='nearest')\n",
    "plt.show()"
   ]
  },
  {
   "cell_type": "code",
   "execution_count": 28,
   "metadata": {},
   "outputs": [],
   "source": [
    "import torch \n",
    "import torch.nn as nn \n",
    "\n",
    "class Generator(nn.Module):\n",
    "    def __init__(self, embedding_dim, image_channels=3):\n",
    "        super(Generator, self).__init__()\n",
    "        self.embedding_dim = embedding_dim\n",
    "        self.fc = nn.Linear(embedding_dim, 256*256*3)\n",
    "        self.conv_blocks = nn.Sequential(\n",
    "            nn.Conv2d(105, 64, 3, stride=1, padding=1),  # Adjusted input channels to 105\n",
    "            nn.BatchNorm2d(64),\n",
    "            nn.ReLU(),\n",
    "            # Add more layers as needed\n",
    "        )\n",
    "\n",
    "    def forward(self, noise, text_embeddings):\n",
    "        noise = noise.unsqueeze(2).unsqueeze(3)  # Add spatial dimensions\n",
    "        noise = noise.repeat(1, 1, 256, 256)  # Repeat noise to match image size\n",
    "        \n",
    "        text_embeddings = text_embeddings.unsqueeze(2).unsqueeze(3)  # Add spatial dimensions\n",
    "        text_embeddings = text_embeddings.repeat(1, 1, 256, 256)  # Repeat embeddings to match image size\n",
    "        \n",
    "        x = torch.cat([noise, text_embeddings], dim=1)  # Concatenate along channel dimension\n",
    "        x = self.conv_blocks(x)\n",
    "        return x\n",
    "    "
   ]
  },
  {
   "cell_type": "code",
   "execution_count": 29,
   "metadata": {},
   "outputs": [],
   "source": [
    "class Discriminator(nn.Module): \n",
    "    def __init__(self, image_channels=3, embedding_dim=768): \n",
    "        super(Discriminator, self).__init__() \n",
    "        self.conv_blocks = nn.Sequential(\n",
    "            nn.Conv2d(image_channels + 3, 64, kernel_size=3, stride=2, padding=1), \n",
    "            nn.LeakyReLU(0.2, inplace=True),  \n",
    "        )\n",
    "        self.fc = nn.Linear(64*128*128, 1)\n",
    "    \n",
    "    def forward(self, images, text_embeddings): \n",
    "        x = torch.cat([images, text_embeddings.view(text_embeddings.size(0), text_embeddings.size(1), 1, 1)], dim=1)\n",
    "        x = self.conv_blocks(x)\n",
    "        x = x.view(x.size(0), -1)\n",
    "        validity = self.fc(x)\n",
    "        return validity"
   ]
  },
  {
   "cell_type": "code",
   "execution_count": 30,
   "metadata": {},
   "outputs": [],
   "source": [
    "from torch.utils.data import Dataset \n",
    "\n",
    "class CustomDataset(Dataset): \n",
    "    def __init__(self, real_images, text_embeddings): \n",
    "        self.real_images = real_images\n",
    "        self.text_embeddings = text_embeddings\n",
    "        \n",
    "    def __len__(self): \n",
    "        return len(self.real_images)\n",
    "    \n",
    "    def __getitem__(self, index):\n",
    "        image = torch.tensor(self.real_images[index], dtype=torch.float32) \n",
    "        embedding = torch.tensor(self.text_embeddings[index], dtype=torch.float32)\n",
    "        return image, embedding\n",
    "    \n",
    "real_images = X_train_images[:100]\n",
    "text_embeddings = X_train_text[:100] \n",
    "\n",
    "custom_dataset = CustomDataset(real_images=real_images, text_embeddings=text_embeddings) "
   ]
  },
  {
   "cell_type": "code",
   "execution_count": 31,
   "metadata": {},
   "outputs": [],
   "source": [
    "from torch.utils.data import DataLoader\n",
    "\n",
    "batch_size = 16\n",
    "num_epochs = 18 \n",
    "\n",
    "data_loader = DataLoader(dataset=custom_dataset, batch_size=batch_size, shuffle=True)\n",
    "generator = Generator(embedding_dim=768)\n",
    "discriminator = Discriminator() \n",
    "\n",
    "optimizer_G = torch.optim.Adam(generator.parameters(), lr=0.0002, betas=(0.5, 0.999)) \n",
    "optimizer_D = torch.optim.Adam(discriminator.parameters(), lr=0.0002, betas=(0.5, 0.999))"
   ]
  },
  {
   "cell_type": "code",
   "execution_count": 32,
   "metadata": {},
   "outputs": [
    {
     "ename": "RuntimeError",
     "evalue": "Given groups=1, weight of size [64, 105, 3, 3], expected input[16, 868, 256, 256] to have 105 channels, but got 868 channels instead",
     "output_type": "error",
     "traceback": [
      "\u001b[0;31m---------------------------------------------------------------------------\u001b[0m",
      "\u001b[0;31mRuntimeError\u001b[0m                              Traceback (most recent call last)",
      "Cell \u001b[0;32mIn[32], line 6\u001b[0m\n\u001b[1;32m      3\u001b[0m optimizer_D\u001b[38;5;241m.\u001b[39mzero_grad()\n\u001b[1;32m      5\u001b[0m noise \u001b[38;5;241m=\u001b[39m torch\u001b[38;5;241m.\u001b[39mrandn(batch_size, \u001b[38;5;241m100\u001b[39m) \n\u001b[0;32m----> 6\u001b[0m fake_images \u001b[38;5;241m=\u001b[39m \u001b[43mgenerator\u001b[49m\u001b[43m(\u001b[49m\u001b[43mnoise\u001b[49m\u001b[43m,\u001b[49m\u001b[43m \u001b[49m\u001b[43mtext_embeddings\u001b[49m\u001b[43m)\u001b[49m \n\u001b[1;32m      8\u001b[0m real_loss \u001b[38;5;241m=\u001b[39m discriminator(images, text_embeddings) \n\u001b[1;32m      9\u001b[0m fake_loss \u001b[38;5;241m=\u001b[39m discriminator(fake_images, text_embeddings)\n",
      "File \u001b[0;32m/Library/Frameworks/Python.framework/Versions/3.11/lib/python3.11/site-packages/torch/nn/modules/module.py:1511\u001b[0m, in \u001b[0;36mModule._wrapped_call_impl\u001b[0;34m(self, *args, **kwargs)\u001b[0m\n\u001b[1;32m   1509\u001b[0m     \u001b[38;5;28;01mreturn\u001b[39;00m \u001b[38;5;28mself\u001b[39m\u001b[38;5;241m.\u001b[39m_compiled_call_impl(\u001b[38;5;241m*\u001b[39margs, \u001b[38;5;241m*\u001b[39m\u001b[38;5;241m*\u001b[39mkwargs)  \u001b[38;5;66;03m# type: ignore[misc]\u001b[39;00m\n\u001b[1;32m   1510\u001b[0m \u001b[38;5;28;01melse\u001b[39;00m:\n\u001b[0;32m-> 1511\u001b[0m     \u001b[38;5;28;01mreturn\u001b[39;00m \u001b[38;5;28;43mself\u001b[39;49m\u001b[38;5;241;43m.\u001b[39;49m\u001b[43m_call_impl\u001b[49m\u001b[43m(\u001b[49m\u001b[38;5;241;43m*\u001b[39;49m\u001b[43margs\u001b[49m\u001b[43m,\u001b[49m\u001b[43m \u001b[49m\u001b[38;5;241;43m*\u001b[39;49m\u001b[38;5;241;43m*\u001b[39;49m\u001b[43mkwargs\u001b[49m\u001b[43m)\u001b[49m\n",
      "File \u001b[0;32m/Library/Frameworks/Python.framework/Versions/3.11/lib/python3.11/site-packages/torch/nn/modules/module.py:1520\u001b[0m, in \u001b[0;36mModule._call_impl\u001b[0;34m(self, *args, **kwargs)\u001b[0m\n\u001b[1;32m   1515\u001b[0m \u001b[38;5;66;03m# If we don't have any hooks, we want to skip the rest of the logic in\u001b[39;00m\n\u001b[1;32m   1516\u001b[0m \u001b[38;5;66;03m# this function, and just call forward.\u001b[39;00m\n\u001b[1;32m   1517\u001b[0m \u001b[38;5;28;01mif\u001b[39;00m \u001b[38;5;129;01mnot\u001b[39;00m (\u001b[38;5;28mself\u001b[39m\u001b[38;5;241m.\u001b[39m_backward_hooks \u001b[38;5;129;01mor\u001b[39;00m \u001b[38;5;28mself\u001b[39m\u001b[38;5;241m.\u001b[39m_backward_pre_hooks \u001b[38;5;129;01mor\u001b[39;00m \u001b[38;5;28mself\u001b[39m\u001b[38;5;241m.\u001b[39m_forward_hooks \u001b[38;5;129;01mor\u001b[39;00m \u001b[38;5;28mself\u001b[39m\u001b[38;5;241m.\u001b[39m_forward_pre_hooks\n\u001b[1;32m   1518\u001b[0m         \u001b[38;5;129;01mor\u001b[39;00m _global_backward_pre_hooks \u001b[38;5;129;01mor\u001b[39;00m _global_backward_hooks\n\u001b[1;32m   1519\u001b[0m         \u001b[38;5;129;01mor\u001b[39;00m _global_forward_hooks \u001b[38;5;129;01mor\u001b[39;00m _global_forward_pre_hooks):\n\u001b[0;32m-> 1520\u001b[0m     \u001b[38;5;28;01mreturn\u001b[39;00m \u001b[43mforward_call\u001b[49m\u001b[43m(\u001b[49m\u001b[38;5;241;43m*\u001b[39;49m\u001b[43margs\u001b[49m\u001b[43m,\u001b[49m\u001b[43m \u001b[49m\u001b[38;5;241;43m*\u001b[39;49m\u001b[38;5;241;43m*\u001b[39;49m\u001b[43mkwargs\u001b[49m\u001b[43m)\u001b[49m\n\u001b[1;32m   1522\u001b[0m \u001b[38;5;28;01mtry\u001b[39;00m:\n\u001b[1;32m   1523\u001b[0m     result \u001b[38;5;241m=\u001b[39m \u001b[38;5;28;01mNone\u001b[39;00m\n",
      "Cell \u001b[0;32mIn[28], line 24\u001b[0m, in \u001b[0;36mGenerator.forward\u001b[0;34m(self, noise, text_embeddings)\u001b[0m\n\u001b[1;32m     21\u001b[0m text_embeddings \u001b[38;5;241m=\u001b[39m text_embeddings\u001b[38;5;241m.\u001b[39mrepeat(\u001b[38;5;241m1\u001b[39m, \u001b[38;5;241m1\u001b[39m, \u001b[38;5;241m256\u001b[39m, \u001b[38;5;241m256\u001b[39m)  \u001b[38;5;66;03m# Repeat embeddings to match image size\u001b[39;00m\n\u001b[1;32m     23\u001b[0m x \u001b[38;5;241m=\u001b[39m torch\u001b[38;5;241m.\u001b[39mcat([noise, text_embeddings], dim\u001b[38;5;241m=\u001b[39m\u001b[38;5;241m1\u001b[39m)  \u001b[38;5;66;03m# Concatenate along channel dimension\u001b[39;00m\n\u001b[0;32m---> 24\u001b[0m x \u001b[38;5;241m=\u001b[39m \u001b[38;5;28;43mself\u001b[39;49m\u001b[38;5;241;43m.\u001b[39;49m\u001b[43mconv_blocks\u001b[49m\u001b[43m(\u001b[49m\u001b[43mx\u001b[49m\u001b[43m)\u001b[49m\n\u001b[1;32m     25\u001b[0m \u001b[38;5;28;01mreturn\u001b[39;00m x\n",
      "File \u001b[0;32m/Library/Frameworks/Python.framework/Versions/3.11/lib/python3.11/site-packages/torch/nn/modules/module.py:1511\u001b[0m, in \u001b[0;36mModule._wrapped_call_impl\u001b[0;34m(self, *args, **kwargs)\u001b[0m\n\u001b[1;32m   1509\u001b[0m     \u001b[38;5;28;01mreturn\u001b[39;00m \u001b[38;5;28mself\u001b[39m\u001b[38;5;241m.\u001b[39m_compiled_call_impl(\u001b[38;5;241m*\u001b[39margs, \u001b[38;5;241m*\u001b[39m\u001b[38;5;241m*\u001b[39mkwargs)  \u001b[38;5;66;03m# type: ignore[misc]\u001b[39;00m\n\u001b[1;32m   1510\u001b[0m \u001b[38;5;28;01melse\u001b[39;00m:\n\u001b[0;32m-> 1511\u001b[0m     \u001b[38;5;28;01mreturn\u001b[39;00m \u001b[38;5;28;43mself\u001b[39;49m\u001b[38;5;241;43m.\u001b[39;49m\u001b[43m_call_impl\u001b[49m\u001b[43m(\u001b[49m\u001b[38;5;241;43m*\u001b[39;49m\u001b[43margs\u001b[49m\u001b[43m,\u001b[49m\u001b[43m \u001b[49m\u001b[38;5;241;43m*\u001b[39;49m\u001b[38;5;241;43m*\u001b[39;49m\u001b[43mkwargs\u001b[49m\u001b[43m)\u001b[49m\n",
      "File \u001b[0;32m/Library/Frameworks/Python.framework/Versions/3.11/lib/python3.11/site-packages/torch/nn/modules/module.py:1520\u001b[0m, in \u001b[0;36mModule._call_impl\u001b[0;34m(self, *args, **kwargs)\u001b[0m\n\u001b[1;32m   1515\u001b[0m \u001b[38;5;66;03m# If we don't have any hooks, we want to skip the rest of the logic in\u001b[39;00m\n\u001b[1;32m   1516\u001b[0m \u001b[38;5;66;03m# this function, and just call forward.\u001b[39;00m\n\u001b[1;32m   1517\u001b[0m \u001b[38;5;28;01mif\u001b[39;00m \u001b[38;5;129;01mnot\u001b[39;00m (\u001b[38;5;28mself\u001b[39m\u001b[38;5;241m.\u001b[39m_backward_hooks \u001b[38;5;129;01mor\u001b[39;00m \u001b[38;5;28mself\u001b[39m\u001b[38;5;241m.\u001b[39m_backward_pre_hooks \u001b[38;5;129;01mor\u001b[39;00m \u001b[38;5;28mself\u001b[39m\u001b[38;5;241m.\u001b[39m_forward_hooks \u001b[38;5;129;01mor\u001b[39;00m \u001b[38;5;28mself\u001b[39m\u001b[38;5;241m.\u001b[39m_forward_pre_hooks\n\u001b[1;32m   1518\u001b[0m         \u001b[38;5;129;01mor\u001b[39;00m _global_backward_pre_hooks \u001b[38;5;129;01mor\u001b[39;00m _global_backward_hooks\n\u001b[1;32m   1519\u001b[0m         \u001b[38;5;129;01mor\u001b[39;00m _global_forward_hooks \u001b[38;5;129;01mor\u001b[39;00m _global_forward_pre_hooks):\n\u001b[0;32m-> 1520\u001b[0m     \u001b[38;5;28;01mreturn\u001b[39;00m \u001b[43mforward_call\u001b[49m\u001b[43m(\u001b[49m\u001b[38;5;241;43m*\u001b[39;49m\u001b[43margs\u001b[49m\u001b[43m,\u001b[49m\u001b[43m \u001b[49m\u001b[38;5;241;43m*\u001b[39;49m\u001b[38;5;241;43m*\u001b[39;49m\u001b[43mkwargs\u001b[49m\u001b[43m)\u001b[49m\n\u001b[1;32m   1522\u001b[0m \u001b[38;5;28;01mtry\u001b[39;00m:\n\u001b[1;32m   1523\u001b[0m     result \u001b[38;5;241m=\u001b[39m \u001b[38;5;28;01mNone\u001b[39;00m\n",
      "File \u001b[0;32m/Library/Frameworks/Python.framework/Versions/3.11/lib/python3.11/site-packages/torch/nn/modules/container.py:217\u001b[0m, in \u001b[0;36mSequential.forward\u001b[0;34m(self, input)\u001b[0m\n\u001b[1;32m    215\u001b[0m \u001b[38;5;28;01mdef\u001b[39;00m \u001b[38;5;21mforward\u001b[39m(\u001b[38;5;28mself\u001b[39m, \u001b[38;5;28minput\u001b[39m):\n\u001b[1;32m    216\u001b[0m     \u001b[38;5;28;01mfor\u001b[39;00m module \u001b[38;5;129;01min\u001b[39;00m \u001b[38;5;28mself\u001b[39m:\n\u001b[0;32m--> 217\u001b[0m         \u001b[38;5;28minput\u001b[39m \u001b[38;5;241m=\u001b[39m \u001b[43mmodule\u001b[49m\u001b[43m(\u001b[49m\u001b[38;5;28;43minput\u001b[39;49m\u001b[43m)\u001b[49m\n\u001b[1;32m    218\u001b[0m     \u001b[38;5;28;01mreturn\u001b[39;00m \u001b[38;5;28minput\u001b[39m\n",
      "File \u001b[0;32m/Library/Frameworks/Python.framework/Versions/3.11/lib/python3.11/site-packages/torch/nn/modules/module.py:1511\u001b[0m, in \u001b[0;36mModule._wrapped_call_impl\u001b[0;34m(self, *args, **kwargs)\u001b[0m\n\u001b[1;32m   1509\u001b[0m     \u001b[38;5;28;01mreturn\u001b[39;00m \u001b[38;5;28mself\u001b[39m\u001b[38;5;241m.\u001b[39m_compiled_call_impl(\u001b[38;5;241m*\u001b[39margs, \u001b[38;5;241m*\u001b[39m\u001b[38;5;241m*\u001b[39mkwargs)  \u001b[38;5;66;03m# type: ignore[misc]\u001b[39;00m\n\u001b[1;32m   1510\u001b[0m \u001b[38;5;28;01melse\u001b[39;00m:\n\u001b[0;32m-> 1511\u001b[0m     \u001b[38;5;28;01mreturn\u001b[39;00m \u001b[38;5;28;43mself\u001b[39;49m\u001b[38;5;241;43m.\u001b[39;49m\u001b[43m_call_impl\u001b[49m\u001b[43m(\u001b[49m\u001b[38;5;241;43m*\u001b[39;49m\u001b[43margs\u001b[49m\u001b[43m,\u001b[49m\u001b[43m \u001b[49m\u001b[38;5;241;43m*\u001b[39;49m\u001b[38;5;241;43m*\u001b[39;49m\u001b[43mkwargs\u001b[49m\u001b[43m)\u001b[49m\n",
      "File \u001b[0;32m/Library/Frameworks/Python.framework/Versions/3.11/lib/python3.11/site-packages/torch/nn/modules/module.py:1520\u001b[0m, in \u001b[0;36mModule._call_impl\u001b[0;34m(self, *args, **kwargs)\u001b[0m\n\u001b[1;32m   1515\u001b[0m \u001b[38;5;66;03m# If we don't have any hooks, we want to skip the rest of the logic in\u001b[39;00m\n\u001b[1;32m   1516\u001b[0m \u001b[38;5;66;03m# this function, and just call forward.\u001b[39;00m\n\u001b[1;32m   1517\u001b[0m \u001b[38;5;28;01mif\u001b[39;00m \u001b[38;5;129;01mnot\u001b[39;00m (\u001b[38;5;28mself\u001b[39m\u001b[38;5;241m.\u001b[39m_backward_hooks \u001b[38;5;129;01mor\u001b[39;00m \u001b[38;5;28mself\u001b[39m\u001b[38;5;241m.\u001b[39m_backward_pre_hooks \u001b[38;5;129;01mor\u001b[39;00m \u001b[38;5;28mself\u001b[39m\u001b[38;5;241m.\u001b[39m_forward_hooks \u001b[38;5;129;01mor\u001b[39;00m \u001b[38;5;28mself\u001b[39m\u001b[38;5;241m.\u001b[39m_forward_pre_hooks\n\u001b[1;32m   1518\u001b[0m         \u001b[38;5;129;01mor\u001b[39;00m _global_backward_pre_hooks \u001b[38;5;129;01mor\u001b[39;00m _global_backward_hooks\n\u001b[1;32m   1519\u001b[0m         \u001b[38;5;129;01mor\u001b[39;00m _global_forward_hooks \u001b[38;5;129;01mor\u001b[39;00m _global_forward_pre_hooks):\n\u001b[0;32m-> 1520\u001b[0m     \u001b[38;5;28;01mreturn\u001b[39;00m \u001b[43mforward_call\u001b[49m\u001b[43m(\u001b[49m\u001b[38;5;241;43m*\u001b[39;49m\u001b[43margs\u001b[49m\u001b[43m,\u001b[49m\u001b[43m \u001b[49m\u001b[38;5;241;43m*\u001b[39;49m\u001b[38;5;241;43m*\u001b[39;49m\u001b[43mkwargs\u001b[49m\u001b[43m)\u001b[49m\n\u001b[1;32m   1522\u001b[0m \u001b[38;5;28;01mtry\u001b[39;00m:\n\u001b[1;32m   1523\u001b[0m     result \u001b[38;5;241m=\u001b[39m \u001b[38;5;28;01mNone\u001b[39;00m\n",
      "File \u001b[0;32m/Library/Frameworks/Python.framework/Versions/3.11/lib/python3.11/site-packages/torch/nn/modules/conv.py:460\u001b[0m, in \u001b[0;36mConv2d.forward\u001b[0;34m(self, input)\u001b[0m\n\u001b[1;32m    459\u001b[0m \u001b[38;5;28;01mdef\u001b[39;00m \u001b[38;5;21mforward\u001b[39m(\u001b[38;5;28mself\u001b[39m, \u001b[38;5;28minput\u001b[39m: Tensor) \u001b[38;5;241m-\u001b[39m\u001b[38;5;241m>\u001b[39m Tensor:\n\u001b[0;32m--> 460\u001b[0m     \u001b[38;5;28;01mreturn\u001b[39;00m \u001b[38;5;28;43mself\u001b[39;49m\u001b[38;5;241;43m.\u001b[39;49m\u001b[43m_conv_forward\u001b[49m\u001b[43m(\u001b[49m\u001b[38;5;28;43minput\u001b[39;49m\u001b[43m,\u001b[49m\u001b[43m \u001b[49m\u001b[38;5;28;43mself\u001b[39;49m\u001b[38;5;241;43m.\u001b[39;49m\u001b[43mweight\u001b[49m\u001b[43m,\u001b[49m\u001b[43m \u001b[49m\u001b[38;5;28;43mself\u001b[39;49m\u001b[38;5;241;43m.\u001b[39;49m\u001b[43mbias\u001b[49m\u001b[43m)\u001b[49m\n",
      "File \u001b[0;32m/Library/Frameworks/Python.framework/Versions/3.11/lib/python3.11/site-packages/torch/nn/modules/conv.py:456\u001b[0m, in \u001b[0;36mConv2d._conv_forward\u001b[0;34m(self, input, weight, bias)\u001b[0m\n\u001b[1;32m    452\u001b[0m \u001b[38;5;28;01mif\u001b[39;00m \u001b[38;5;28mself\u001b[39m\u001b[38;5;241m.\u001b[39mpadding_mode \u001b[38;5;241m!=\u001b[39m \u001b[38;5;124m'\u001b[39m\u001b[38;5;124mzeros\u001b[39m\u001b[38;5;124m'\u001b[39m:\n\u001b[1;32m    453\u001b[0m     \u001b[38;5;28;01mreturn\u001b[39;00m F\u001b[38;5;241m.\u001b[39mconv2d(F\u001b[38;5;241m.\u001b[39mpad(\u001b[38;5;28minput\u001b[39m, \u001b[38;5;28mself\u001b[39m\u001b[38;5;241m.\u001b[39m_reversed_padding_repeated_twice, mode\u001b[38;5;241m=\u001b[39m\u001b[38;5;28mself\u001b[39m\u001b[38;5;241m.\u001b[39mpadding_mode),\n\u001b[1;32m    454\u001b[0m                     weight, bias, \u001b[38;5;28mself\u001b[39m\u001b[38;5;241m.\u001b[39mstride,\n\u001b[1;32m    455\u001b[0m                     _pair(\u001b[38;5;241m0\u001b[39m), \u001b[38;5;28mself\u001b[39m\u001b[38;5;241m.\u001b[39mdilation, \u001b[38;5;28mself\u001b[39m\u001b[38;5;241m.\u001b[39mgroups)\n\u001b[0;32m--> 456\u001b[0m \u001b[38;5;28;01mreturn\u001b[39;00m \u001b[43mF\u001b[49m\u001b[38;5;241;43m.\u001b[39;49m\u001b[43mconv2d\u001b[49m\u001b[43m(\u001b[49m\u001b[38;5;28;43minput\u001b[39;49m\u001b[43m,\u001b[49m\u001b[43m \u001b[49m\u001b[43mweight\u001b[49m\u001b[43m,\u001b[49m\u001b[43m \u001b[49m\u001b[43mbias\u001b[49m\u001b[43m,\u001b[49m\u001b[43m \u001b[49m\u001b[38;5;28;43mself\u001b[39;49m\u001b[38;5;241;43m.\u001b[39;49m\u001b[43mstride\u001b[49m\u001b[43m,\u001b[49m\n\u001b[1;32m    457\u001b[0m \u001b[43m                \u001b[49m\u001b[38;5;28;43mself\u001b[39;49m\u001b[38;5;241;43m.\u001b[39;49m\u001b[43mpadding\u001b[49m\u001b[43m,\u001b[49m\u001b[43m \u001b[49m\u001b[38;5;28;43mself\u001b[39;49m\u001b[38;5;241;43m.\u001b[39;49m\u001b[43mdilation\u001b[49m\u001b[43m,\u001b[49m\u001b[43m \u001b[49m\u001b[38;5;28;43mself\u001b[39;49m\u001b[38;5;241;43m.\u001b[39;49m\u001b[43mgroups\u001b[49m\u001b[43m)\u001b[49m\n",
      "\u001b[0;31mRuntimeError\u001b[0m: Given groups=1, weight of size [64, 105, 3, 3], expected input[16, 868, 256, 256] to have 105 channels, but got 868 channels instead"
     ]
    }
   ],
   "source": [
    "for epoch in range(num_epochs): \n",
    "    for i, (images, text_embeddings) in enumerate(data_loader): \n",
    "        optimizer_D.zero_grad()\n",
    "        \n",
    "        noise = torch.randn(batch_size, 100) \n",
    "        fake_images = generator(noise, text_embeddings) \n",
    "        \n",
    "        real_loss = discriminator(images, text_embeddings) \n",
    "        fake_loss = discriminator(fake_images, text_embeddings)\n",
    "        \n",
    "        d_loss = -torch.mean(real_loss) + torch.mean(fake_loss)\n",
    "        \n",
    "        d_loss.backward() \n",
    "        optimizer_D.step() \n",
    "        \n",
    "        optimizer_G.zero_grad() \n",
    "        \n",
    "        noise = torch.randn(batch_size, 100)\n",
    "        fake_images = generator(noise, text_embeddings)\n",
    "        \n",
    "        g_loss = -torch.mean(discriminator(fake_images, text_embeddings)) \n",
    "        g_loss.backward()\n",
    "        optimizer_G.step()"
   ]
  },
  {
   "cell_type": "code",
   "execution_count": 9,
   "metadata": {},
   "outputs": [
    {
     "name": "stdout",
     "output_type": "stream",
     "text": [
      "2 5\n"
     ]
    }
   ],
   "source": [
    "a = (2,5)\n",
    "b,c = a\n",
    "print(b,c)"
   ]
  }
 ],
 "metadata": {
  "kernelspec": {
   "display_name": "Python 3",
   "language": "python",
   "name": "python3"
  },
  "language_info": {
   "codemirror_mode": {
    "name": "ipython",
    "version": 3
   },
   "file_extension": ".py",
   "mimetype": "text/x-python",
   "name": "python",
   "nbconvert_exporter": "python",
   "pygments_lexer": "ipython3",
   "version": "3.11.5"
  }
 },
 "nbformat": 4,
 "nbformat_minor": 2
}
